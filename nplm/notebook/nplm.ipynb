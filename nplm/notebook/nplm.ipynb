{
 "cells": [
  {
   "cell_type": "markdown",
   "metadata": {},
   "source": [
    "# NPLM\n",
    "Neural Probabilistic Language Model\n",
    "\n",
    "神经概率语言模型\n",
    "\n",
    "<img src=\"attachments/nplm-structure.jpg\" width=\"300\">\n"
   ]
  }
 ],
 "metadata": {
  "language_info": {
   "name": "python"
  }
 },
 "nbformat": 4,
 "nbformat_minor": 2
}
