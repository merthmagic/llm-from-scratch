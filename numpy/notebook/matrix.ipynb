{
 "cells": [
  {
   "cell_type": "markdown",
   "metadata": {},
   "source": [
    "# 向量和矩阵的操作\n",
    "\n",
    "## 向量和矩阵的乘法\n",
    "\n",
    "先贴一个GPT4的回答\n",
    ">在矩阵和向量的乘法中，通常情况下，我们考虑的是一个矩阵乘以一个列向量的操作。这种乘法遵循线性代数中的矩阵乘法规则，要求矩阵的列数与向量的行数（元素数量）相匹配。\n",
    "\n",
    ">如果A是一个m×n的矩阵（m行n列），x是一个n维列向量（n×1），那么乘法Ax是可能的，其结果是一个m维列向量。这种乘法在很多应用中非常常见，例如线性变换、线性系统的求解等。\n",
    "\n",
    ">然而，向量也可以先转置成行向量（一个1×n的矩阵），然后乘以一个矩阵。在这种情况下，假设x是一个n维行向量（1×n），而A是一个n×m的矩阵，那么x乘以A（记作xA）也是可能的，其结果将是一个1×m的行向量。\n",
    "\n",
    ">总结一下，矩阵和向量的乘法遵循以下规则：\n",
    "\n",
    ">一个矩阵（m×n）乘以一个列向量（n×1）得到一个列向量（m×1）。\n",
    ">一个行向量（1×n）乘以一个矩阵（n×m）得到一个行向量（1×m）。\n",
    ">在这两种情况下，关键是内部的维度（矩阵的列数和向量的行数）必须相匹配。如果维度不匹配，那么乘法是不允许的。"
   ]
  },
  {
   "cell_type": "code",
   "execution_count": 1,
   "metadata": {},
   "outputs": [
    {
     "name": "stdout",
     "output_type": "stream",
     "text": [
      "[[1 2]\n",
      " [3 4]]\n"
     ]
    }
   ],
   "source": [
    "import numpy as np\n",
    "\n",
    "A = np.array([[1,2],[3,4]])\n",
    "\n",
    "print(A)"
   ]
  },
  {
   "cell_type": "code",
   "execution_count": 2,
   "metadata": {},
   "outputs": [
    {
     "name": "stdout",
     "output_type": "stream",
     "text": [
      "[17 39]\n"
     ]
    }
   ],
   "source": [
    "v = np.array([5,6]) #数组\n",
    "\n",
    "result = A.dot(v)\n",
    "\n",
    "print(result)"
   ]
  },
  {
   "cell_type": "markdown",
   "metadata": {},
   "source": []
  },
  {
   "cell_type": "code",
   "execution_count": 3,
   "metadata": {},
   "outputs": [
    {
     "name": "stdout",
     "output_type": "stream",
     "text": [
      "[17 39]\n"
     ]
    }
   ],
   "source": [
    "result1 = A @ v\n",
    "print(result1)"
   ]
  },
  {
   "cell_type": "code",
   "execution_count": 4,
   "metadata": {},
   "outputs": [
    {
     "name": "stdout",
     "output_type": "stream",
     "text": [
      "[23 34]\n"
     ]
    }
   ],
   "source": [
    "result2 = v.dot(A)\n",
    "print(result2)"
   ]
  },
  {
   "cell_type": "markdown",
   "metadata": {},
   "source": [
    "上面的操作可以看出来，用np的数组，在运算中决定了是行向量还是列向量\n",
    "\n",
    "计算result、result1的时候，是矩阵乘以向量，那么数组就是列向量\n",
    "计算result2的时候，是向量乘以矩阵，是行向量乘以矩阵，那么数组是行向量\n",
    "\n",
    "GPT提醒\n",
    ">需要注意的是，当你使用dot或@运算符来进行矩阵与向量的乘法时，输出结果的形状将取决于输入数组的形状。如果输入的向量是一个一维数组，输出结果将是一个一维数组；如果输入的向量是一个二维列向量（n×1形状），输出结果将是一个二维数组（m×1形状）。"
   ]
  },
  {
   "cell_type": "code",
   "execution_count": 5,
   "metadata": {},
   "outputs": [
    {
     "name": "stdout",
     "output_type": "stream",
     "text": [
      "[[17]\n",
      " [39]]\n"
     ]
    }
   ],
   "source": [
    "v1 = np.array([[5],[6]]) #列向量，二维数组形式\n",
    "result3 = A @ v1\n",
    "print(result3)"
   ]
  },
  {
   "cell_type": "code",
   "execution_count": 6,
   "metadata": {},
   "outputs": [
    {
     "name": "stdout",
     "output_type": "stream",
     "text": [
      "[[23 34]]\n"
     ]
    }
   ],
   "source": [
    "v2 = np.array([[5,6]]) # 行向量，二维数组形式\n",
    "result4 = v2 @ A\n",
    "print(result4)"
   ]
  },
  {
   "cell_type": "markdown",
   "metadata": {},
   "source": [
    "根据以上代码，验证完毕"
   ]
  }
 ],
 "metadata": {
  "kernelspec": {
   "display_name": "python310",
   "language": "python",
   "name": "python3"
  },
  "language_info": {
   "codemirror_mode": {
    "name": "ipython",
    "version": 3
   },
   "file_extension": ".py",
   "mimetype": "text/x-python",
   "name": "python",
   "nbconvert_exporter": "python",
   "pygments_lexer": "ipython3",
   "version": "3.11.4"
  }
 },
 "nbformat": 4,
 "nbformat_minor": 2
}
