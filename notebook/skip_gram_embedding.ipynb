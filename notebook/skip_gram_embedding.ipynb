{
 "cells": [
  {
   "cell_type": "markdown",
   "metadata": {},
   "source": [
    "# Skip Gram\n",
    "\n",
    "这个notebook用`pytorch`的 embedding来实现\n",
    "用`cuda`进行训练，embedding `dim=8`，降维后plot\n",
    "\n",
    "可能模型太简单，cuda训练反而比cpu低效"
   ]
  },
  {
   "cell_type": "markdown",
   "metadata": {},
   "source": [
    "## 准备数据\n"
   ]
  },
  {
   "cell_type": "code",
   "execution_count": 1,
   "metadata": {},
   "outputs": [],
   "source": [
    "# pprint\n",
    "import pprint\n",
    "pp = pprint.PrettyPrinter(indent=4)"
   ]
  },
  {
   "cell_type": "code",
   "execution_count": 2,
   "metadata": {},
   "outputs": [
    {
     "name": "stdout",
     "output_type": "stream",
     "text": [
      "[   'bird',\n",
      "    'Merlin',\n",
      "    'Bear',\n",
      "    'animal',\n",
      "    'seeds',\n",
      "    'eats',\n",
      "    'Dog',\n",
      "    'is',\n",
      "    'run',\n",
      "    'Cat',\n",
      "    'bone',\n",
      "    'and',\n",
      "    'Lion',\n",
      "    'Pidgen',\n",
      "    'meat',\n",
      "    'fly',\n",
      "    'fish',\n",
      "    'can']\n"
     ]
    }
   ],
   "source": [
    "sentences = [\n",
    "    \"Cat is animal\",\n",
    "    \"Dog is animal\",\n",
    "    \"Lion is animal\",\n",
    "    \"Bear is animal\",\n",
    "    \"Merlin is bird\",\n",
    "    \"Pidgen is bird\",\n",
    "    \"Cat can run\",\n",
    "    \"Dog can run\",\n",
    "    \"Lion can run\",\n",
    "    \"Merlin can fly\",\n",
    "    \"Pidgen can fly\",\n",
    "    \"Cat eats fish\",\n",
    "    \"Dog eats bone\",\n",
    "    \"Lion eats meat\",\n",
    "    \"Bear eats fish and meat\",\n",
    "    \"Merlin eats meat\",\n",
    "    \"Pidgen eats seeds\"\n",
    "]\n",
    "\n",
    "words = list(set(' '.join(sentences).split()))\n",
    "\n",
    "pp.pprint(words)"
   ]
  },
  {
   "cell_type": "code",
   "execution_count": 3,
   "metadata": {},
   "outputs": [
    {
     "name": "stdout",
     "output_type": "stream",
     "text": [
      "{   'Bear': 2,\n",
      "    'Cat': 9,\n",
      "    'Dog': 6,\n",
      "    'Lion': 12,\n",
      "    'Merlin': 1,\n",
      "    'Pidgen': 13,\n",
      "    'and': 11,\n",
      "    'animal': 3,\n",
      "    'bird': 0,\n",
      "    'bone': 10,\n",
      "    'can': 17,\n",
      "    'eats': 5,\n",
      "    'fish': 16,\n",
      "    'fly': 15,\n",
      "    'is': 7,\n",
      "    'meat': 14,\n",
      "    'run': 8,\n",
      "    'seeds': 4}\n"
     ]
    }
   ],
   "source": [
    "word_to_idx = {word:idx for idx,word in enumerate(words)}\n",
    "pp.pprint(word_to_idx)    "
   ]
  },
  {
   "cell_type": "code",
   "execution_count": 4,
   "metadata": {},
   "outputs": [
    {
     "name": "stdout",
     "output_type": "stream",
     "text": [
      "[   ('is', 'Cat'),\n",
      "    ('animal', 'Cat'),\n",
      "    ('Cat', 'is'),\n",
      "    ('animal', 'is'),\n",
      "    ('Cat', 'animal'),\n",
      "    ('is', 'animal'),\n",
      "    ('is', 'Dog'),\n",
      "    ('animal', 'Dog'),\n",
      "    ('Dog', 'is'),\n",
      "    ('animal', 'is'),\n",
      "    ('Dog', 'animal'),\n",
      "    ('is', 'animal'),\n",
      "    ('is', 'Lion'),\n",
      "    ('animal', 'Lion'),\n",
      "    ('Lion', 'is'),\n",
      "    ('animal', 'is'),\n",
      "    ('Lion', 'animal'),\n",
      "    ('is', 'animal'),\n",
      "    ('is', 'Bear'),\n",
      "    ('animal', 'Bear'),\n",
      "    ('Bear', 'is'),\n",
      "    ('animal', 'is'),\n",
      "    ('Bear', 'animal'),\n",
      "    ('is', 'animal'),\n",
      "    ('is', 'Merlin'),\n",
      "    ('bird', 'Merlin'),\n",
      "    ('Merlin', 'is'),\n",
      "    ('bird', 'is'),\n",
      "    ('Merlin', 'bird'),\n",
      "    ('is', 'bird'),\n",
      "    ('is', 'Pidgen'),\n",
      "    ('bird', 'Pidgen'),\n",
      "    ('Pidgen', 'is'),\n",
      "    ('bird', 'is'),\n",
      "    ('Pidgen', 'bird'),\n",
      "    ('is', 'bird'),\n",
      "    ('can', 'Cat'),\n",
      "    ('run', 'Cat'),\n",
      "    ('Cat', 'can'),\n",
      "    ('run', 'can'),\n",
      "    ('Cat', 'run'),\n",
      "    ('can', 'run'),\n",
      "    ('can', 'Dog'),\n",
      "    ('run', 'Dog'),\n",
      "    ('Dog', 'can'),\n",
      "    ('run', 'can'),\n",
      "    ('Dog', 'run'),\n",
      "    ('can', 'run'),\n",
      "    ('can', 'Lion'),\n",
      "    ('run', 'Lion'),\n",
      "    ('Lion', 'can'),\n",
      "    ('run', 'can'),\n",
      "    ('Lion', 'run'),\n",
      "    ('can', 'run'),\n",
      "    ('can', 'Merlin'),\n",
      "    ('fly', 'Merlin'),\n",
      "    ('Merlin', 'can'),\n",
      "    ('fly', 'can'),\n",
      "    ('Merlin', 'fly'),\n",
      "    ('can', 'fly'),\n",
      "    ('can', 'Pidgen'),\n",
      "    ('fly', 'Pidgen'),\n",
      "    ('Pidgen', 'can'),\n",
      "    ('fly', 'can'),\n",
      "    ('Pidgen', 'fly'),\n",
      "    ('can', 'fly'),\n",
      "    ('eats', 'Cat'),\n",
      "    ('fish', 'Cat'),\n",
      "    ('Cat', 'eats'),\n",
      "    ('fish', 'eats'),\n",
      "    ('Cat', 'fish'),\n",
      "    ('eats', 'fish'),\n",
      "    ('eats', 'Dog'),\n",
      "    ('bone', 'Dog'),\n",
      "    ('Dog', 'eats'),\n",
      "    ('bone', 'eats'),\n",
      "    ('Dog', 'bone'),\n",
      "    ('eats', 'bone'),\n",
      "    ('eats', 'Lion'),\n",
      "    ('meat', 'Lion'),\n",
      "    ('Lion', 'eats'),\n",
      "    ('meat', 'eats'),\n",
      "    ('Lion', 'meat'),\n",
      "    ('eats', 'meat'),\n",
      "    ('eats', 'Bear'),\n",
      "    ('fish', 'Bear'),\n",
      "    ('Bear', 'eats'),\n",
      "    ('fish', 'eats'),\n",
      "    ('and', 'eats'),\n",
      "    ('Bear', 'fish'),\n",
      "    ('eats', 'fish'),\n",
      "    ('and', 'fish'),\n",
      "    ('meat', 'fish'),\n",
      "    ('eats', 'and'),\n",
      "    ('fish', 'and'),\n",
      "    ('meat', 'and'),\n",
      "    ('fish', 'meat'),\n",
      "    ('and', 'meat'),\n",
      "    ('eats', 'Merlin'),\n",
      "    ('meat', 'Merlin'),\n",
      "    ('Merlin', 'eats'),\n",
      "    ('meat', 'eats'),\n",
      "    ('Merlin', 'meat'),\n",
      "    ('eats', 'meat'),\n",
      "    ('eats', 'Pidgen'),\n",
      "    ('seeds', 'Pidgen'),\n",
      "    ('Pidgen', 'eats'),\n",
      "    ('seeds', 'eats'),\n",
      "    ('Pidgen', 'seeds'),\n",
      "    ('eats', 'seeds')]\n"
     ]
    }
   ],
   "source": [
    "windows_size = 2\n",
    "voc_size = len(word_to_idx)\n",
    "def create_skipgram_dataset():\n",
    "    skipgram_data = []\n",
    "    for sentence in sentences:\n",
    "        sentence_words = sentence.split()\n",
    "        for idx,target in enumerate(sentence_words):\n",
    "            left = max(idx-windows_size,0)\n",
    "            right = min(idx+windows_size+1,len(sentence_words))\n",
    "            for neighber in sentence_words[left:right]:\n",
    "                if neighber != target:\n",
    "                    skipgram_data.append((neighber,target))\n",
    "                \n",
    "            \n",
    "    return skipgram_data\n",
    "\n",
    "skipgram_dataset = create_skipgram_dataset()\n",
    "\n",
    "pp.pprint(skipgram_dataset)\n",
    "        \n",
    "            "
   ]
  },
  {
   "cell_type": "markdown",
   "metadata": {},
   "source": [
    "## 定义模型"
   ]
  },
  {
   "cell_type": "code",
   "execution_count": 7,
   "metadata": {},
   "outputs": [
    {
     "name": "stdout",
     "output_type": "stream",
     "text": [
      "SkipGramEmbedding(\n",
      "  (input_to_hidden): Embedding(18, 8)\n",
      "  (hidden_to_output): Linear(in_features=8, out_features=18, bias=False)\n",
      ")\n"
     ]
    }
   ],
   "source": [
    "import torch.nn as nn\n",
    "import torch\n",
    "\n",
    "device = torch.device(\"cuda\")\n",
    "\n",
    "class SkipGramEmbedding(nn.Module):\n",
    "    def __init__(self,voc_size,embedding_size):\n",
    "        super(SkipGramEmbedding,self).__init__()\n",
    "        self.input_to_hidden = nn.Embedding(voc_size,embedding_dim=embedding_size).to(device=device)\n",
    "        self.hidden_to_output = nn.Linear(embedding_size,voc_size,bias=False).to(device=device)\n",
    "    \n",
    "    def forward(self,X):\n",
    "        hidden = self.input_to_hidden(X)\n",
    "        output = self.hidden_to_output(hidden)\n",
    "        return output\n",
    "    \n",
    "\n",
    "skipgram_model = SkipGramEmbedding(voc_size=voc_size,embedding_size=8)\n",
    "print(skipgram_model)\n",
    "        "
   ]
  },
  {
   "cell_type": "markdown",
   "metadata": {},
   "source": [
    "## 训练"
   ]
  },
  {
   "cell_type": "code",
   "execution_count": 9,
   "metadata": {},
   "outputs": [
    {
     "name": "stdout",
     "output_type": "stream",
     "text": [
      "Epoch:100,Loss:2.4968302602117713\n",
      "Epoch:200,Loss:2.346340061859651\n",
      "Epoch:300,Loss:2.2506514966487883\n",
      "Epoch:400,Loss:2.1749401065436276\n",
      "Epoch:500,Loss:2.1125273059714926\n",
      "Epoch:600,Loss:2.0599603062326257\n",
      "Epoch:700,Loss:2.014276028763164\n",
      "Epoch:800,Loss:1.9733794737945904\n",
      "Epoch:900,Loss:1.9364320386539806\n",
      "Epoch:1000,Loss:1.9036463065580889\n",
      "Epoch:1100,Loss:1.875350521369414\n",
      "Epoch:1200,Loss:1.8511877087029545\n",
      "Epoch:1300,Loss:1.830361346764998\n",
      "Epoch:1400,Loss:1.8121769980950788\n",
      "Epoch:1500,Loss:1.7961892610246486\n",
      "Epoch:1600,Loss:1.7821347870609976\n",
      "Epoch:1700,Loss:1.769827010414817\n",
      "Epoch:1800,Loss:1.759098721634258\n",
      "Epoch:1900,Loss:1.7497821401466023\n",
      "Epoch:2000,Loss:1.7417141470042141\n",
      "Epoch:2100,Loss:1.7347372423518788\n",
      "Epoch:2200,Loss:1.7287045067006892\n",
      "Epoch:2300,Loss:1.7234828461300242\n",
      "Epoch:2400,Loss:1.7189497221599925\n",
      "Epoch:2500,Loss:1.714999019015919\n",
      "Epoch:2600,Loss:1.7115402861074969\n",
      "Epoch:2700,Loss:1.7084975204684518\n",
      "Epoch:2800,Loss:1.7058080754496834\n",
      "Epoch:2900,Loss:1.7034195032986728\n",
      "Epoch:3000,Loss:1.701290636170994\n",
      "Epoch:3100,Loss:1.6993839204311372\n",
      "Epoch:3200,Loss:1.6976702744310552\n",
      "Epoch:3300,Loss:1.6961240145293148\n",
      "Epoch:3400,Loss:1.6947253866629166\n",
      "Epoch:3500,Loss:1.6934557811780409\n",
      "Epoch:3600,Loss:1.6923004161227833\n",
      "Epoch:3700,Loss:1.6912473050030794\n",
      "Epoch:3800,Loss:1.6902840733528137\n",
      "Epoch:3900,Loss:1.6894007406451486\n",
      "Epoch:4000,Loss:1.6885896368460223\n",
      "Epoch:4100,Loss:1.6878426291725852\n",
      "Epoch:4200,Loss:1.6871531118046155\n",
      "Epoch:4300,Loss:1.6865160421891645\n",
      "Epoch:4400,Loss:1.6859258158640429\n",
      "Epoch:4500,Loss:1.685378581827337\n",
      "Epoch:4600,Loss:1.6848696741190823\n",
      "Epoch:4700,Loss:1.6843960296023976\n",
      "Epoch:4800,Loss:1.6839544865218077\n",
      "Epoch:4900,Loss:1.683541916175322\n",
      "Epoch:5000,Loss:1.683156235109676\n"
     ]
    },
    {
     "data": {
      "image/png": "[encoded data removed]",
      "text/plain": [
       "<Figure size 640x480 with 1 Axes>"
      ]
     },
     "metadata": {},
     "output_type": "display_data"
    }
   ],
   "source": [
    "import torch.optim as optim\n",
    "\n",
    "lr = 1e-3\n",
    "criterion = nn.CrossEntropyLoss()\n",
    "optimizer = optim.SGD(skipgram_model.parameters(),lr=lr)\n",
    "\n",
    "epochs=5000\n",
    "\n",
    "loss_values = []\n",
    "\n",
    "for epoch in range(epochs):\n",
    "    loss_sum = 0\n",
    "    \n",
    "    for context,target in skipgram_dataset:\n",
    "        X = torch.tensor([word_to_idx[target]],dtype=torch.long).to(device)\n",
    "        y_pred = skipgram_model(X).to(device)\n",
    "        y_true = torch.tensor([word_to_idx[context]],dtype=torch.long).to(device)\n",
    "        loss = criterion(y_pred,y_true)\n",
    "        loss_sum+=loss.item()\n",
    "        optimizer.zero_grad()\n",
    "        loss.backward()\n",
    "        optimizer.step()\n",
    "    \n",
    "    if (epoch+1) % 100 == 0:\n",
    "        print(f\"Epoch:{epoch+1},Loss:{loss_sum/len(skipgram_dataset)}\")\n",
    "        loss_values.append(loss_sum/len(skipgram_dataset))\n",
    "\n",
    "import matplotlib.pyplot as plt\n",
    "plt.rcParams[\"font.family\"] = [\"SimHei\"]\n",
    "plt.rcParams[\"font.sans-serif\"] = [\"SimHei\"]\n",
    "plt.rcParams[\"axes.unicode_minus\"] = False\n",
    "plt.plot(range(1, epochs // 100 + 1), loss_values)\n",
    "plt.title(\"训练损失曲线\")\n",
    "plt.xlabel(\"轮次\")\n",
    "plt.ylabel(\"损失\")\n",
    "plt.show()"
   ]
  },
  {
   "cell_type": "markdown",
   "metadata": {},
   "source": [
    "## 查看词向量"
   ]
  },
  {
   "cell_type": "code",
   "execution_count": 12,
   "metadata": {},
   "outputs": [
    {
     "name": "stdout",
     "output_type": "stream",
     "text": [
      "tensor([[ 0.6107,  0.2761, -0.9057, -0.8565, -2.0999,  1.5490,  1.5694, -0.1664],\n",
      "        [-1.9006, -1.5186, -1.5674, -0.1891, -0.4508,  1.7784,  0.8316,  0.6447],\n",
      "        [-0.1676,  2.3204, -0.5484, -0.9820,  1.0837,  1.5301, -1.1787, -0.9821],\n",
      "        [ 0.3450,  2.3179, -1.1366, -0.6121, -2.6786, -2.6581, -1.0354, -1.5717],\n",
      "        [ 1.4733,  0.1889, -0.0287,  0.0721, -0.7559,  1.4090,  0.1831, -2.5982],\n",
      "        [-1.0443,  0.4131,  1.6193, -1.5164, -0.3568, -1.1966,  0.6093, -1.6840],\n",
      "        [ 0.6564, -0.6279, -0.1372,  1.1937, -1.2686,  1.1826, -1.6922, -0.5789],\n",
      "        [ 1.8810,  3.2945,  1.1797,  0.0139,  1.6832,  0.4443,  0.1510,  1.4184],\n",
      "        [ 1.1736, -1.9892,  1.1300,  1.1074,  2.0752, -1.9049,  0.2900, -0.8346],\n",
      "        [ 0.6559, -0.1241, -1.0204, -1.6296,  0.8672,  1.7270, -1.6510, -0.1328],\n",
      "        [ 1.1752,  0.1039, -2.2681, -0.4798,  2.4726, -1.2399, -2.1769, -1.5186],\n",
      "        [-1.3849, -0.1779, -1.4912, -1.5919,  1.2688,  0.6045,  0.5814, -0.8938],\n",
      "        [-0.7890, -0.8874, -1.4254, -0.5379, -0.0142, -0.0254, -3.0553, -0.0742],\n",
      "        [-2.7120, -0.6776,  0.7700, -0.5363, -0.0047,  3.3077, -1.1988,  0.0791],\n",
      "        [ 0.7794,  0.2614, -2.0884, -0.2342,  0.1271, -0.9095,  2.1842, -2.4626],\n",
      "        [ 1.7138, -3.2105, -0.1514, -1.1567, -1.2300, -0.2984,  1.5684, -1.9150],\n",
      "        [-1.6776,  0.7624, -1.5940,  1.7231,  1.1387, -1.5590,  0.9163, -0.8864],\n",
      "        [ 1.7583, -0.5724,  0.1431, -2.7126,  0.1334, -1.2608, -0.2611,  2.1207]],\n",
      "       grad_fn=<ToCopyBackward0>)\n"
     ]
    }
   ],
   "source": [
    "w = skipgram_model.input_to_hidden.weight.cpu()\n",
    "pp.pprint(w)"
   ]
  },
  {
   "cell_type": "code",
   "execution_count": 16,
   "metadata": {},
   "outputs": [
    {
     "name": "stdout",
     "output_type": "stream",
     "text": [
      "bird:[ 0.6106683   0.2760923  -0.90570825 -0.85651666 -2.0999112   1.5489671\n",
      "  1.5694352  -0.16637003]\n",
      "Merlin:[-1.90057    -1.5185739  -1.5674353  -0.18908334 -0.45078433  1.7784474\n",
      "  0.83164996  0.64470893]\n",
      "Bear:[-0.16760536  2.3204331  -0.5483841  -0.98201174  1.0837342   1.5300982\n",
      " -1.1787329  -0.98207235]\n",
      "animal:[ 0.3449565  2.3179455 -1.1365889 -0.6121276 -2.6785727 -2.6580577\n",
      " -1.0353792 -1.571721 ]\n",
      "seeds:[ 1.4733063   0.1889427  -0.0287116   0.0721442  -0.755933    1.40898\n",
      "  0.18312986 -2.5982304 ]\n",
      "eats:[-1.044316    0.41314325  1.6192861  -1.5164223  -0.35675982 -1.1966065\n",
      "  0.609299   -1.6839944 ]\n",
      "Dog:[ 0.6563973  -0.62787336 -0.13724689  1.1936734  -1.2685813   1.182554\n",
      " -1.6921622  -0.57892495]\n",
      "is:[1.8810042  3.2945285  1.1797234  0.01393934 1.6831691  0.44432575\n",
      " 0.15101042 1.4184272 ]\n",
      "run:[ 1.1736099  -1.9891962   1.1299682   1.1074107   2.0752075  -1.9049455\n",
      "  0.28995064 -0.83461046]\n",
      "Cat:[ 0.6559454  -0.12413099 -1.0203767  -1.629556    0.86718357  1.7269989\n",
      " -1.6509894  -0.13280211]\n",
      "bone:[ 1.1752324   0.10389552 -2.2680647  -0.4798421   2.472608   -1.2399462\n",
      " -2.1769266  -1.5186346 ]\n",
      "and:[-1.3848559  -0.17793971 -1.4911594  -1.5918571   1.2687716   0.60446966\n",
      "  0.5814163  -0.89378524]\n",
      "Lion:[-0.78895634 -0.8874214  -1.4253906  -0.53790206 -0.01417617 -0.02541337\n",
      " -3.0553346  -0.07417917]\n",
      "Pidgen:[-2.7119763  -0.6776389   0.7699958  -0.5363498  -0.00473158  3.3077273\n",
      " -1.198773    0.07906745]\n",
      "meat:[ 0.7793921   0.26140484 -2.088428   -0.23417197  0.12712146 -0.90951663\n",
      "  2.1841905  -2.462637  ]\n",
      "fly:[ 1.7137605  -3.210499   -0.15143493 -1.1566842  -1.2300495  -0.29842615\n",
      "  1.5684013  -1.9149696 ]\n",
      "fish:[-1.6775795   0.76238674 -1.5940194   1.723116    1.1387218  -1.5590358\n",
      "  0.91634804 -0.8863688 ]\n",
      "can:[ 1.7583075  -0.57237846  0.14306262 -2.7125869   0.13336264 -1.2607589\n",
      " -0.2611017   2.1206586 ]\n"
     ]
    }
   ],
   "source": [
    "for word,idx in word_to_idx.items():\n",
    "    print(f\"{word}:{w[idx,:].detach().numpy()}\")"
   ]
  },
  {
   "cell_type": "code",
   "execution_count": 26,
   "metadata": {},
   "outputs": [
    {
     "data": {
      "image/png": "[encoded data removed]",
      "text/plain": [
       "<Figure size 640x480 with 1 Axes>"
      ]
     },
     "metadata": {},
     "output_type": "display_data"
    }
   ],
   "source": [
    "import numpy as np\n",
    "from sklearn.decomposition import PCA\n",
    "\n",
    "pca = PCA(n_components=2)\n",
    "\n",
    "transformed = pca.fit_transform(skipgram_model.input_to_hidden.weight.cpu().detach().numpy())\n",
    "\n",
    "fig,ax = plt.subplots()\n",
    "for word,idx in word_to_idx.items():\n",
    "    vec = transformed[idx,:]\n",
    "    ax.scatter(vec[0],vec[1])\n",
    "    ax.annotate(word,(vec[0],vec[1]),fontsize=9)\n",
    "plt.title('词向量')\n",
    "plt.xlabel('向量维度1')\n",
    "plt.ylabel('向量维度2')\n",
    "plt.show()"
   ]
  }
 ],
 "metadata": {
  "kernelspec": {
   "display_name": "python310",
   "language": "python",
   "name": "python3"
  },
  "language_info": {
   "codemirror_mode": {
    "name": "ipython",
    "version": 3
   },
   "file_extension": ".py",
   "mimetype": "text/x-python",
   "name": "python",
   "nbconvert_exporter": "python",
   "pygments_lexer": "ipython3",
   "version": "3.9.18"
  }
 },
 "nbformat": 4,
 "nbformat_minor": 2
}
