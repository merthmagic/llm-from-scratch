{
 "cells": [
  {
   "cell_type": "markdown",
   "metadata": {},
   "source": [
    "# 循环神经网络\n",
    "\n",
    "尝试使用`Numpy`手搓最简单的RNN实现"
   ]
  },
  {
   "cell_type": "markdown",
   "metadata": {},
   "source": [
    "## 准备数据\n",
    "\n",
    "目标是用'hello'这个单词训练，希望能得到的是输入'hell',推理出'o'\n",
    "\n",
    "'hello'作为一个序列，每个字母是序列的元素，进行one-hot encoding, 这里太简单所以直接手动指定"
   ]
  },
  {
   "cell_type": "code",
   "execution_count": 1,
   "metadata": {},
   "outputs": [
    {
     "name": "stdout",
     "output_type": "stream",
     "text": [
      "[1 0 0 0]\n",
      "[0 1 0 0]\n",
      "[0 0 1 0]\n",
      "[0 0 0 1]\n"
     ]
    }
   ],
   "source": [
    "import numpy as np\n",
    "\n",
    "h = np.array([1,0,0,0])\n",
    "e = np.array([0,1,0,0])\n",
    "l = np.array([0,0,1,0])\n",
    "o = np.array([0,0,0,1])\n",
    "\n",
    "print(h)\n",
    "print(e)\n",
    "print(l)\n",
    "print(o)"
   ]
  }
 ],
 "metadata": {
  "kernelspec": {
   "display_name": "base",
   "language": "python",
   "name": "python3"
  },
  "language_info": {
   "codemirror_mode": {
    "name": "ipython",
    "version": 3
   },
   "file_extension": ".py",
   "mimetype": "text/x-python",
   "name": "python",
   "nbconvert_exporter": "python",
   "pygments_lexer": "ipython3",
   "version": "3.11.5"
  }
 },
 "nbformat": 4,
 "nbformat_minor": 2
}
